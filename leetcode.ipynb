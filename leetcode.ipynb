{
 "cells": [
  {
   "cell_type": "code",
   "execution_count": 2,
   "metadata": {},
   "outputs": [
    {
     "name": "stdout",
     "output_type": "stream",
     "text": [
      "[5, 8, 6, 7, 6]\n"
     ]
    }
   ],
   "source": [
    "def arrayMaxConsecutiveSum(inputArray, k):\n",
    "    begin = 0\n",
    "    end = begin + k\n",
    "    sum_list = []\n",
    "\n",
    "    for i in range(0, len(inputArray)):\n",
    "    \n",
    "        sum_list.append(sum(inputArray[i:i + k]))\n",
    "\n",
    "    print(sum_list)\n",
    "\n",
    "if __name__ == \"__main__\":\n",
    "    inputArray= [2, 3, 5, 1, 6]\n",
    "    k= 2\n",
    "    arrayMaxConsecutiveSum(inputArray,k)"
   ]
  },
  {
   "cell_type": "code",
   "execution_count": 1,
   "metadata": {},
   "outputs": [
    {
     "ename": "SyntaxError",
     "evalue": "invalid syntax (1776500549.py, line 4)",
     "output_type": "error",
     "traceback": [
      "\u001b[0;36m  Cell \u001b[0;32mIn[1], line 4\u001b[0;36m\u001b[0m\n\u001b[0;31m    while start < end {\u001b[0m\n\u001b[0m                      ^\u001b[0m\n\u001b[0;31mSyntaxError\u001b[0m\u001b[0;31m:\u001b[0m invalid syntax\n"
     ]
    }
   ],
   "source": [
    "def is_palindrome(s):\n",
    "    start = 0\n",
    "    end = len(s) - 1\n",
    "    while start < end:\n",
    "        if s[start] != s[end]:\n",
    "            return False\n",
    "        start += 1\n",
    "        end -= 1\n",
    "    return True"
   ]
  },
  {
   "cell_type": "code",
   "execution_count": 2,
   "metadata": {},
   "outputs": [
    {
     "ename": "SyntaxError",
     "evalue": "invalid syntax (2303969584.py, line 6)",
     "output_type": "error",
     "traceback": [
      "\u001b[0;36m  Cell \u001b[0;32mIn[2], line 6\u001b[0;36m\u001b[0m\n\u001b[0;31m    while(high < len(nums) && nums[i]+ nums[low]+ nums[high] < target):\u001b[0m\n\u001b[0m                            ^\u001b[0m\n\u001b[0;31mSyntaxError\u001b[0m\u001b[0;31m:\u001b[0m invalid syntax\n"
     ]
    }
   ],
   "source": [
    "def find_sum_of_three(nums, target):\n",
    "    nums.sort()\n",
    "    for i in range(len(nums) - 2):\n",
    "        low = i + 1\n",
    "        high = len(nums) - 1\n",
    "        while low < high:\n",
    "            current_sum = nums[i] + nums[low] + nums[high]\n",
    "            if current_sum == target:\n",
    "                return True\n",
    "            elif current_sum < target:\n",
    "                low += 1\n",
    "            else:\n",
    "                high -= 1\n",
    "    return False"
   ]
  },
  {
   "cell_type": "code",
   "execution_count": 3,
   "metadata": {},
   "outputs": [
    {
     "ename": "ModuleNotFoundError",
     "evalue": "No module named 'linked_list'",
     "output_type": "error",
     "traceback": [
      "\u001b[0;31m---------------------------------------------------------------------------\u001b[0m",
      "\u001b[0;31mModuleNotFoundError\u001b[0m                       Traceback (most recent call last)",
      "Cell \u001b[0;32mIn[3], line 1\u001b[0m\n\u001b[0;32m----> 1\u001b[0m \u001b[38;5;28;01mfrom\u001b[39;00m \u001b[38;5;21;01mlinked_list\u001b[39;00m \u001b[38;5;28;01mimport\u001b[39;00m LinkedList\n\u001b[1;32m      2\u001b[0m \u001b[38;5;28;01mfrom\u001b[39;00m \u001b[38;5;21;01mlinked_list_node\u001b[39;00m \u001b[38;5;28;01mimport\u001b[39;00m LinkedListNode\n\u001b[1;32m      4\u001b[0m \u001b[38;5;28;01mdef\u001b[39;00m \u001b[38;5;21mremove_nth_last_node\u001b[39m(head, n):\n",
      "\u001b[0;31mModuleNotFoundError\u001b[0m: No module named 'linked_list'"
     ]
    }
   ],
   "source": [
    "# Ensure the linked_list and linked_list_node modules are in the same directory as this notebook\n",
    "# or install them if they are part of a library\n",
    "\n",
    "from linked_list import LinkedList\n",
    "from linked_list_node import LinkedListNode\n",
    "\n",
    "def remove_nth_last_node(head, n):\n",
    "    left = head\n",
    "    right = head\n",
    "    for i in range(n):\n",
    "        if right is None:\n",
    "            return head\n",
    "        right = right.next\n",
    "    if right is None:\n",
    "        return head.next\n",
    "    while right.next is not None:\n",
    "        left = left.next\n",
    "        right = right.next\n",
    "    left.next = left.next.next\n",
    "    return head"
   ]
  },
  {
   "cell_type": "code",
   "execution_count": 4,
   "metadata": {},
   "outputs": [],
   "source": [
    "def reverse_words(sentence):\n",
    "    \"\"\"\n",
    "    Reverses the order of words in a given sentence.\n",
    "\n",
    "    Args:\n",
    "        sentence (str): The sentence to reverse.\n",
    "\n",
    "    Returns:\n",
    "        str: The sentence with the order of words reversed.\n",
    "\n",
    "    Example:\n",
    "        >>> reverse_words(\"hello world\")\n",
    "        'world hello'\n",
    "    \"\"\"\n",
    "\n",
    "    return \" \".join(reversed(sentence.split()))\n",
    "\n",
    "\n"
   ]
  },
  {
   "cell_type": "code",
   "execution_count": 12,
   "metadata": {},
   "outputs": [
    {
     "name": "stdout",
     "output_type": "stream",
     "text": [
      "array('i', [3, 2])\n"
     ]
    }
   ],
   "source": [
    "import array as arr \n",
    "\n",
    "numbers = arr.array('i', [1, 2, 3, 4, 5])\n",
    "\n",
    "copy = numbers[2:0:-1]\n",
    "\n",
    "print(copy)"
   ]
  },
  {
   "cell_type": "code",
   "execution_count": null,
   "metadata": {},
   "outputs": [],
   "source": [
    "def max_palindrome_length(word):\n",
    "    def is_palindrome(s):\n",
    "        return s == s[::-1]\n",
    "\n",
    "    max_length = 0\n",
    "    for i in range(len(word)):\n",
    "        for j in range(i, len(word)):\n",
    "            if is_palindrome(word[i:j+1]):\n",
    "                max_length = max(max_length, j - i + 1)\n",
    "    return max_length\n",
    "\n",
    "word = \"babad\"\n",
    "print(max_palindrome_length(word))"
   ]
  },
  {
   "cell_type": "code",
   "execution_count": null,
   "metadata": {},
   "outputs": [],
   "source": [
    "def valid_palindrome(s):\n",
    "    def is_palindrome_range(i, j):\n",
    "        return all(s[k] == s[j - k + i] for k in range(i, j))\n",
    "\n",
    "    for i in range(len(s) // 2):\n",
    "        if s[i] != s[~i]:\n",
    "            j = len(s) - 1 - i\n",
    "            return is_palindrome_range(i + 1, j) or is_palindrome_range(i, j - 1)\n",
    "    return True\n",
    "\n",
    "# Example usage\n",
    "s = \"abca\"\n",
    "print(valid_palindrome(s))  # Output: True"
   ]
  },
  {
   "cell_type": "code",
   "execution_count": 22,
   "metadata": {},
   "outputs": [
    {
     "name": "stdout",
     "output_type": "stream",
     "text": [
      "False\n"
     ]
    }
   ],
   "source": [
    "def find_squared_sum(n):\n",
    "  sum = 0\n",
    "  while n > 0 :\n",
    "    sum += (n%10)**2\n",
    "    n = n//10\n",
    "  return sum\n",
    "\n",
    "def is_happy_number(n):\n",
    "    slow = n\n",
    "    fast = find_squared_sum(n)\n",
    "    while slow != fast:\n",
    "        slow = find_squared_sum(slow)\n",
    "        fast = find_squared_sum(find_squared_sum(fast))\n",
    "        if fast == 1:\n",
    "            return True\n",
    "    return slow == 1\n",
    "\n",
    "print(is_happy_number(288))"
   ]
  },
  {
   "cell_type": "code",
   "execution_count": 25,
   "metadata": {},
   "outputs": [
    {
     "name": "stdout",
     "output_type": "stream",
     "text": [
      "Requirement already satisfied: linked_list in ./.venv/lib/python3.11/site-packages (0.0.7)\n",
      "Note: you may need to restart the kernel to use updated packages.\n"
     ]
    }
   ],
   "source": [
    "%pip install linked_list"
   ]
  },
  {
   "cell_type": "code",
   "execution_count": 24,
   "metadata": {},
   "outputs": [
    {
     "ename": "ModuleNotFoundError",
     "evalue": "No module named 'll'",
     "output_type": "error",
     "traceback": [
      "\u001b[0;31m---------------------------------------------------------------------------\u001b[0m",
      "\u001b[0;31mModuleNotFoundError\u001b[0m                       Traceback (most recent call last)",
      "Cell \u001b[0;32mIn[24], line 4\u001b[0m\n\u001b[1;32m      1\u001b[0m \u001b[38;5;66;03m# Ensure the linked_list module is in the same directory as this notebook\u001b[39;00m\n\u001b[1;32m      2\u001b[0m \u001b[38;5;66;03m# or install it if it is part of a library\u001b[39;00m\n\u001b[0;32m----> 4\u001b[0m \u001b[38;5;28;01mfrom\u001b[39;00m \u001b[38;5;21;01mlinked_list\u001b[39;00m \u001b[38;5;28;01mimport\u001b[39;00m LinkedList\n\u001b[1;32m      6\u001b[0m \u001b[38;5;28;01mdef\u001b[39;00m \u001b[38;5;21mdetect_cycle\u001b[39m(head):\n\u001b[1;32m      7\u001b[0m   fast \u001b[38;5;241m=\u001b[39m head\n",
      "File \u001b[0;32m~/Downloads/tutorials/python-projects/country-sort/.venv/lib/python3.11/site-packages/linked_list/__init__.py:1\u001b[0m\n\u001b[0;32m----> 1\u001b[0m \u001b[38;5;28;01mfrom\u001b[39;00m \u001b[38;5;21;01mll\u001b[39;00m \u001b[38;5;28;01mimport\u001b[39;00m LL\n\u001b[1;32m      2\u001b[0m \u001b[38;5;28;01mfrom\u001b[39;00m \u001b[38;5;21;01mdll\u001b[39;00m \u001b[38;5;28;01mimport\u001b[39;00m DLL\n\u001b[1;32m      3\u001b[0m \u001b[38;5;28;01mfrom\u001b[39;00m \u001b[38;5;21;01mtools\u001b[39;00m \u001b[38;5;28;01mimport\u001b[39;00m (\n\u001b[1;32m      4\u001b[0m     pushback, pushfront, popback, popfront, delete)\n",
      "\u001b[0;31mModuleNotFoundError\u001b[0m: No module named 'll'"
     ]
    }
   ],
   "source": [
    "# Ensure the linked_list module is in the same directory as this notebook\n",
    "# or install it if it is part of a library\n",
    "\n",
    "from linked_list import LinkedList\n",
    "\n",
    "def detect_cycle(head):\n",
    "  fast = head\n",
    "  slow = head\n",
    "  while fast is not None and fast.next is not None:\n",
    "    fast = fast.next.next\n",
    "    slow = slow.next\n",
    "    if slow == fast:\n",
    "      break\n",
    "  \n",
    "  if fast is None or fast.next is None:\n",
    "    return False\n",
    "  return True"
   ]
  },
  {
   "cell_type": "code",
   "execution_count": null,
   "metadata": {},
   "outputs": [],
   "source": [
    "def circular_array_loop(nums):\n",
    "    def next_index(i):\n",
    "        return (i + nums[i]) % len(nums)\n",
    "\n",
    "    for i in range(len(nums)):\n",
    "        slow, fast = i, i\n",
    "\n",
    "        while nums[slow] * nums[next_index(slow)] > 0 and nums[fast] * nums[next_index(fast)] > 0 and nums[fast] * nums[next_index(next_index(fast))] > 0:\n",
    "            slow = next_index(slow)\n",
    "            fast = next_index(next_index(fast))\n",
    "\n",
    "            if slow == fast:\n",
    "                if slow == next_index(slow):\n",
    "                    break\n",
    "                return True\n",
    "\n",
    "        slow = i\n",
    "        val = nums[slow]\n",
    "        while nums[slow] * val > 0:\n",
    "            next_i = next_index(slow)\n",
    "            nums[slow] = 0\n",
    "            slow = next_i\n",
    "\n",
    "    return False\n",
    "\n",
    "# Example usage\n",
    "nums = [2, -1, 1, 2, 2]\n",
    "print(circular_array_loop(nums))  # Output: True"
   ]
  },
  {
   "cell_type": "code",
   "execution_count": null,
   "metadata": {},
   "outputs": [],
   "source": [
    "def find_duplicate(nums):\n",
    "    fast = nums[0]\n",
    "    slow = nums[0]\n",
    "    \n",
    "    # Phase 1: Finding the intersection point of the two runners.\n",
    "    while True:\n",
    "        slow = nums[slow]\n",
    "        fast = nums[nums[fast]]\n",
    "        if slow == fast:\n",
    "            break\n",
    "    \n",
    "    # Phase 2: Finding the entrance to the cycle.\n",
    "    slow = nums[0]\n",
    "    while slow != fast:\n",
    "        slow = nums[slow]\n",
    "        fast = nums[fast]\n",
    "    \n",
    "    return slow\n",
    "\n",
    "# Example usage\n",
    "nums = [1, 3, 4, 2, 2]\n",
    "print(find_duplicate(nums))  # Output: 2\n"
   ]
  },
  {
   "cell_type": "code",
   "execution_count": null,
   "metadata": {},
   "outputs": [],
   "source": [
    "from linked_list import CircularLinkedList\n",
    "\n",
    "def splitCircularLinkedList(head):\n",
    "    if head is None:\n",
    "        return [None, None]\n",
    "\n",
    "    fast = head\n",
    "    slow = head\n",
    "\n",
    "    while fast.next != head and fast.next.next != head:\n",
    "        fast = fast.next.next\n",
    "        slow = slow.next\n",
    "\n",
    "    if fast.next.next == head:\n",
    "        fast = fast.next\n",
    "\n",
    "    first_half_head = head\n",
    "    second_half_head = slow.next\n",
    "\n",
    "    fast.next = second_half_head\n",
    "    slow.next = first_half_head\n",
    "\n",
    "    return [first_half_head, second_half_head]\n",
    "\n",
    "# Example usage\n",
    "# Assuming CircularLinkedList and LinkedListNode are defined in linked_list module\n",
    "circular_list = CircularLinkedList()\n",
    "for num in [1, 2, 3, 4, 5]:\n",
    "    circular_list.append(num)\n",
    "\n",
    "first_half, second_half = splitCircularLinkedList(circular_list.head)\n",
    "\n",
    "# Print the two halves\n",
    "print(\"First half:\")\n",
    "circular_list.print_list(first_half)\n",
    "\n",
    "print(\"Second half:\")\n",
    "circular_list.print_list(second_half)"
   ]
  },
  {
   "cell_type": "code",
   "execution_count": 26,
   "metadata": {},
   "outputs": [
    {
     "name": "stdout",
     "output_type": "stream",
     "text": [
      "['AAAAACCCCC', 'CCCCCAAAAA']\n"
     ]
    }
   ],
   "source": [
    "def find_repeated_dna_sequences(s):\n",
    "    seen, repeated = set(), set()\n",
    "    for i in range(len(s) - 9):\n",
    "        sequence = s[i:i + 10]\n",
    "        if sequence in seen:\n",
    "            repeated.add(sequence)\n",
    "        seen.add(sequence)\n",
    "    return list(repeated)\n",
    "\n",
    "# Example usage\n",
    "dna_sequence = \"AAAAACCCCCAAAAACCCCCCAAAAAGGGTTT\"\n",
    "print(find_repeated_dna_sequences(dna_sequence))  # Output: ['AAAAACCCCC', 'CCCCCAAAAA']"
   ]
  },
  {
   "cell_type": "code",
   "execution_count": null,
   "metadata": {},
   "outputs": [],
   "source": [
    "from collections import deque\n",
    "\n",
    "def find_max_sliding_window(nums, w):\n",
    "    if not nums or w == 0:\n",
    "        return []\n",
    "\n",
    "    de = deque()\n",
    "    max_list = []\n",
    "\n",
    "    for i in range(len(nums)):\n",
    "        # Remove elements not within the sliding window\n",
    "        if de and de[0] < i - w + 1:\n",
    "            de.popleft()\n",
    "\n",
    "        # Remove elements smaller than the current element from the deque\n",
    "        while de and nums[de[-1]] < nums[i]:\n",
    "            de.pop()\n",
    "\n",
    "        de.append(i)\n",
    "\n",
    "        # The first element in the deque is the maximum element of the current window\n",
    "        if i >= w - 1:\n",
    "            max_list.append(nums[de[0]])\n",
    "\n",
    "    return max_list\n",
    "\n",
    "# Example usage\n",
    "nums = [1, 3, -1, -3, 5, 3, 6, 7]\n",
    "w = 3\n",
    "print(find_max_sliding_window(nums, w))  # Output: [3, 3, 5, 5, 6, 7]"
   ]
  }
 ],
 "metadata": {
  "kernelspec": {
   "display_name": ".venv",
   "language": "python",
   "name": "python3"
  },
  "language_info": {
   "codemirror_mode": {
    "name": "ipython",
    "version": 3
   },
   "file_extension": ".py",
   "mimetype": "text/x-python",
   "name": "python",
   "nbconvert_exporter": "python",
   "pygments_lexer": "ipython3",
   "version": "3.11.9"
  }
 },
 "nbformat": 4,
 "nbformat_minor": 2
}
