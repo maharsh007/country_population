{
 "cells": [
  {
   "cell_type": "code",
   "execution_count": 2,
   "metadata": {},
   "outputs": [
    {
     "name": "stdout",
     "output_type": "stream",
     "text": [
      "[5, 8, 6, 7, 6]\n"
     ]
    }
   ],
   "source": [
    "def arrayMaxConsecutiveSum(inputArray, k):\n",
    "    begin = 0\n",
    "    end = begin + k\n",
    "    sum_list = []\n",
    "\n",
    "    for i in range(0, len(inputArray)):\n",
    "    \n",
    "        sum_list.append(sum(inputArray[i:i + k]))\n",
    "\n",
    "    print(sum_list)\n",
    "\n",
    "if __name__ == \"__main__\":\n",
    "    inputArray= [2, 3, 5, 1, 6]\n",
    "    k= 2\n",
    "    arrayMaxConsecutiveSum(inputArray,k)"
   ]
  }
 ],
 "metadata": {
  "kernelspec": {
   "display_name": ".venv",
   "language": "python",
   "name": "python3"
  },
  "language_info": {
   "codemirror_mode": {
    "name": "ipython",
    "version": 3
   },
   "file_extension": ".py",
   "mimetype": "text/x-python",
   "name": "python",
   "nbconvert_exporter": "python",
   "pygments_lexer": "ipython3",
   "version": "3.11.9"
  }
 },
 "nbformat": 4,
 "nbformat_minor": 2
}
