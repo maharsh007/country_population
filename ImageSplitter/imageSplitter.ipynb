{
 "cells": [
  {
   "cell_type": "code",
   "execution_count": 28,
   "metadata": {},
   "outputs": [
    {
     "name": "stdout",
     "output_type": "stream",
     "text": [
      "Requirement already satisfied: pdf2image in /Users/80216583/Downloads/tutorials/python-projects/country-sort/.venv/lib/python3.11/site-packages (1.17.0)\n",
      "Requirement already satisfied: pillow in /Users/80216583/Downloads/tutorials/python-projects/country-sort/.venv/lib/python3.11/site-packages (from pdf2image) (11.0.0)\n",
      "Note: you may need to restart the kernel to use updated packages.\n",
      "Requirement already satisfied: numpy==1.26.4 in /Users/80216583/Downloads/tutorials/python-projects/country-sort/.venv/lib/python3.11/site-packages (1.26.4)\n",
      "Note: you may need to restart the kernel to use updated packages.\n"
     ]
    }
   ],
   "source": [
    "%pip install pdf2image\n",
    "%pip install --upgrade numpy==1.26.4"
   ]
  },
  {
   "cell_type": "code",
   "execution_count": 29,
   "metadata": {},
   "outputs": [],
   "source": [
    "from pdf2image import convert_from_path\n",
    "import pathlib\n",
    "\n",
    "def pdf_to_images():\n",
    "    \"\"\"Converts PDF pages to images.\"\"\"\n",
    "\n",
    "    output_folder= pathlib.Path().resolve()\n",
    "\n",
    "    pages = convert_from_path(f\"{output_folder}/Form_28 (48).pdf\")\n",
    "\n",
    "    for i, page in enumerate(pages):\n",
    "        page.save(f\"{output_folder}/page_{i}.jpg\", \"JPEG\")\n",
    "\n",
    "pdf_to_images()"
   ]
  },
  {
   "cell_type": "code",
   "execution_count": 30,
   "metadata": {},
   "outputs": [
    {
     "name": "stdout",
     "output_type": "stream",
     "text": [
      "Requirement already satisfied: easyocr in /Users/80216583/Downloads/tutorials/python-projects/country-sort/.venv/lib/python3.11/site-packages (1.7.2)\n",
      "Requirement already satisfied: torch in /Users/80216583/Downloads/tutorials/python-projects/country-sort/.venv/lib/python3.11/site-packages (from easyocr) (2.2.2)\n",
      "Requirement already satisfied: torchvision>=0.5 in /Users/80216583/Downloads/tutorials/python-projects/country-sort/.venv/lib/python3.11/site-packages (from easyocr) (0.17.2)\n",
      "Requirement already satisfied: opencv-python-headless in /Users/80216583/Downloads/tutorials/python-projects/country-sort/.venv/lib/python3.11/site-packages (from easyocr) (4.10.0.84)\n",
      "Requirement already satisfied: scipy in /Users/80216583/Downloads/tutorials/python-projects/country-sort/.venv/lib/python3.11/site-packages (from easyocr) (1.14.1)\n",
      "Requirement already satisfied: numpy in /Users/80216583/Downloads/tutorials/python-projects/country-sort/.venv/lib/python3.11/site-packages (from easyocr) (1.26.4)\n",
      "Requirement already satisfied: Pillow in /Users/80216583/Downloads/tutorials/python-projects/country-sort/.venv/lib/python3.11/site-packages (from easyocr) (11.0.0)\n",
      "Requirement already satisfied: scikit-image in /Users/80216583/Downloads/tutorials/python-projects/country-sort/.venv/lib/python3.11/site-packages (from easyocr) (0.24.0)\n",
      "Requirement already satisfied: python-bidi in /Users/80216583/Downloads/tutorials/python-projects/country-sort/.venv/lib/python3.11/site-packages (from easyocr) (0.6.3)\n",
      "Requirement already satisfied: PyYAML in /Users/80216583/Downloads/tutorials/python-projects/country-sort/.venv/lib/python3.11/site-packages (from easyocr) (6.0.2)\n",
      "Requirement already satisfied: Shapely in /Users/80216583/Downloads/tutorials/python-projects/country-sort/.venv/lib/python3.11/site-packages (from easyocr) (2.0.6)\n",
      "Requirement already satisfied: pyclipper in /Users/80216583/Downloads/tutorials/python-projects/country-sort/.venv/lib/python3.11/site-packages (from easyocr) (1.3.0.post6)\n",
      "Requirement already satisfied: ninja in /Users/80216583/Downloads/tutorials/python-projects/country-sort/.venv/lib/python3.11/site-packages (from easyocr) (1.11.1.1)\n",
      "Requirement already satisfied: filelock in /Users/80216583/Downloads/tutorials/python-projects/country-sort/.venv/lib/python3.11/site-packages (from torch->easyocr) (3.16.1)\n",
      "Requirement already satisfied: typing-extensions>=4.8.0 in /Users/80216583/Downloads/tutorials/python-projects/country-sort/.venv/lib/python3.11/site-packages (from torch->easyocr) (4.12.2)\n",
      "Requirement already satisfied: sympy in /Users/80216583/Downloads/tutorials/python-projects/country-sort/.venv/lib/python3.11/site-packages (from torch->easyocr) (1.13.3)\n",
      "Requirement already satisfied: networkx in /Users/80216583/Downloads/tutorials/python-projects/country-sort/.venv/lib/python3.11/site-packages (from torch->easyocr) (3.4.2)\n",
      "Requirement already satisfied: jinja2 in /Users/80216583/Downloads/tutorials/python-projects/country-sort/.venv/lib/python3.11/site-packages (from torch->easyocr) (3.1.4)\n",
      "Requirement already satisfied: fsspec in /Users/80216583/Downloads/tutorials/python-projects/country-sort/.venv/lib/python3.11/site-packages (from torch->easyocr) (2024.10.0)\n",
      "Requirement already satisfied: imageio>=2.33 in /Users/80216583/Downloads/tutorials/python-projects/country-sort/.venv/lib/python3.11/site-packages (from scikit-image->easyocr) (2.36.0)\n",
      "Requirement already satisfied: tifffile>=2022.8.12 in /Users/80216583/Downloads/tutorials/python-projects/country-sort/.venv/lib/python3.11/site-packages (from scikit-image->easyocr) (2024.9.20)\n",
      "Requirement already satisfied: packaging>=21 in /Users/80216583/Downloads/tutorials/python-projects/country-sort/.venv/lib/python3.11/site-packages (from scikit-image->easyocr) (24.2)\n",
      "Requirement already satisfied: lazy-loader>=0.4 in /Users/80216583/Downloads/tutorials/python-projects/country-sort/.venv/lib/python3.11/site-packages (from scikit-image->easyocr) (0.4)\n",
      "Requirement already satisfied: MarkupSafe>=2.0 in /Users/80216583/Downloads/tutorials/python-projects/country-sort/.venv/lib/python3.11/site-packages (from jinja2->torch->easyocr) (3.0.2)\n",
      "Requirement already satisfied: mpmath<1.4,>=1.1.0 in /Users/80216583/Downloads/tutorials/python-projects/country-sort/.venv/lib/python3.11/site-packages (from sympy->torch->easyocr) (1.3.0)\n",
      "Note: you may need to restart the kernel to use updated packages.\n"
     ]
    }
   ],
   "source": [
    "%pip install easyocr"
   ]
  },
  {
   "cell_type": "code",
   "execution_count": 4,
   "metadata": {},
   "outputs": [
    {
     "name": "stderr",
     "output_type": "stream",
     "text": [
      "Downloading recognition model, please wait. This may take several minutes depending upon your network connection.\n"
     ]
    },
    {
     "name": "stdout",
     "output_type": "stream",
     "text": [
      "Progress: |██████████████████████████████████████████████████| 100.0% Complete[([[759, 213], [939, 213], [939, 255], [759, 255]], 'FORM28', 0.7366048454784542), ([[1274, 232], [1506, 232], [1506, 260], [1274, 260]], 'Contact: 8095042476', 0.6819836413510666), ([[666, 260], [1034, 260], [1034, 292], [666, 292]], '[See_rule 55,581)()and (4]', 0.6530400107515997), ([[427, 289], [1267, 289], [1267, 328], [427, 328]], \"Form of application for 'No Objection Certificate' and grant of certificate\", 0.7178141856348209), ([[219, 357], [1453, 357], [1453, 395], [219, 395]], 'To be made in triplicate, the duplicate copy and the triplicate copy with the endorsement of Registering Authority', 0.8725392862451954), ([[1460, 364], [1488, 364], [1488, 388], [1460, 388]], 'to', 0.9996678147023056), ([[209, 384], [1484, 384], [1484, 421], [209, 421]], 'be returned to the owner of the vehicle and the Registering Authority in whose jurisdiction the vehicle is to removed,', 0.7486124166280165), ([[210, 418], [358, 418], [358, 448], [210, 448]], 'respectively:)', 0.7184109908251461), ([[804, 478], [896, 478], [896, 504], [804, 504]], 'PART-I', 0.8789235182789296), ([[212, 510], [244, 510], [244, 536], [212, 536]], 'To', 0.9999758077946654), ([[210, 574], [502, 574], [502, 606], [210, 606]], 'The RegisteringAuthority;', 0.7180161623932064), ([[210, 606], [286, 606], [286, 634], [210, 634]], 'KAS1', 0.6149054169654846), ([[210, 668], [642, 668], [642, 696], [210, 696]], 'IWe intend to transfer the vehicle to the', 0.7678383350928913), ([[638, 663], [1315, 663], [1315, 703], [638, 703]], 'jurisdiction of the Registering Authority TSO9 (kondapur rto)', 0.7065697317920682), ([[1324, 670], [1492, 670], [1492, 696], [1324, 696]], 'IWe intend to', 0.8004197194922306), ([[210, 699], [1270, 699], [1270, 732], [210, 732]], 'sell the vehicle to shrilsmt/Kumari NA who resides in the jurisdiction of the Registering Athority', 0.6036967437032786), ([[434, 728], [777, 728], [777, 758], [434, 758]], 'of the State Of TELANGANA', 0.6009461097230373), ([[795, 725], [1482, 725], [1482, 763], [795, 763]], 'IWe therefore request for the issue of a no objection for mylour', 0.9097980699474298), ([[210, 758], [760, 758], [760, 790], [210, 790]], 'vehicle theparticulars of which are furnished below', 0.8002490913018627), ([[213, 825], [231, 825], [231, 847], [213, 847]], '13', 0.257156184307239), ([[259, 819], [1455, 819], [1455, 855], [259, 855]], 'Name and adress Maharshi Choudhury (#507, Ittina Mahaveer; E-City Post; Bangalore, Karnataka,', 0.7282449671031858), ([[210, 852], [314, 852], [314, 884], [210, 884]], '580100)', 0.998983800690562), ([[211, 919], [229, 919], [229, 943], [211, 943]], '2', 1.0), ([[259, 913], [821, 913], [821, 951], [259, 951]], 'Son Wife/Daughter of Mrinal Kanti Choudhury', 0.6878163458880528), ([[211, 967], [229, 967], [229, 991], [211, 991]], '3', 0.9999964237245109), ([[260, 964], [815, 964], [815, 996], [260, 996]], 'Registration number of the vehicle KAS1 EG7877', 0.6757945017863581), ([[211, 1015], [231, 1015], [231, 1039], [211, 1039]], '4', 1.0), ([[260, 1012], [562, 1012], [562, 1042], [260, 1042]], 'Class of vehicle MCYCLE', 0.610628974746886), ([[213, 1061], [231, 1061], [231, 1085], [213, 1085]], '5_', 0.8557769889155473), ([[258, 1055], [667, 1055], [667, 1093], [258, 1093]], 'Registering Authority which orginally', 0.9868128439926868), ([[252, 1108], [560, 1108], [560, 1138], [252, 1138]], 'registered the vehicle KASI', 0.8362108819326014), ([[213, 1159], [231, 1159], [231, 1181], [213, 1181]], '6', 0.9999933242909265), ([[260, 1155], [624, 1155], [624, 1186], [260, 1186]], 'Engine number DHZCDE23884', 0.8647103508743492), ([[215, 1207], [231, 1207], [231, 1229], [215, 1229]], '7', 0.9999997615814351), ([[262, 1202], [726, 1202], [726, 1232], [262, 1232]], 'Chasis number MDZAIICZZIICE41588', 0.6027067607908168), ([[212, 1252], [236, 1252], [236, 1278], [212, 1278]], '8.', 0.9954152313734671), ([[260, 1250], [536, 1250], [536, 1282], [260, 1282]], 'Period of stay in State: 11', 0.9798500757319358), ([[548, 1252], [620, 1252], [620, 1278], [548, 1278]], 'Years', 0.8218943041622644), ([[211, 1305], [231, 1305], [231, 1329], [211, 1329]], '9', 0.9999977350247811), ([[260, 1304], [614, 1304], [614, 1334], [260, 1334]], 'Period upto which motor vehicle', 0.8700362156021533), ([[652, 1303], [749, 1303], [749, 1332], [652, 1332]], 'has been', 0.9985654373675692), ([[931, 1301], [1055, 1301], [1055, 1337], [931, 1337]], '15 years_', 0.6614158667635254), ([[212, 1356], [246, 1356], [246, 1384], [212, 1384]], '10.', 0.9917211108339907), ([[260, 1353], [763, 1353], [763, 1389], [260, 1389]], 'Whether any demand for tax in pending ifgive', 0.9136388436358085), ([[260, 1388], [338, 1388], [338, 1416], [260, 1416]], 'details_', 0.9945300478005109), ([[976, 1388], [1030, 1388], [1030, 1414], [976, 1414]], 'NIA', 0.9156539520830436), ([[212, 1438], [244, 1438], [244, 1464], [212, 1464]], '11.', 0.9062028442731694), ([[262, 1438], [780, 1438], [780, 1468], [262, 1468]], 'Whether the vehicle is involued in anytheft case', 0.9129980956113705), ([[260, 1468], [440, 1468], [440, 1500], [260, 1500]], 'if so give details_', 0.948714363042728), ([[994, 1470], [1046, 1470], [1046, 1496], [994, 1496]], 'NIA', 0.9331414300312956), ([[212, 1518], [244, 1518], [244, 1544], [212, 1544]], '12.', 0.962562418545322), ([[264, 1516], [720, 1516], [720, 1548], [264, 1548]], 'Whether any action under section 53,54 0r', 0.7765174749001201), ([[259, 1541], [745, 1541], [745, 1577], [259, 1577]], '55 of the Motor Vehicle Act; 1988 is pending', 0.9417875084469092), ([[259, 1567], [693, 1567], [693, 1605], [259, 1605]], 'before any Registring Authority O other', 0.8591570141030831), ([[257, 1597], [663, 1597], [663, 1633], [257, 1633]], 'prescibed authority, if s0 give details.', 0.7052681363702991), ([[952, 1602], [1002, 1602], [1002, 1628], [952, 1628]], 'NIA', 0.9833396051462069), ([[212, 1652], [244, 1652], [244, 1678], [212, 1678]], '13.', 0.9901793711150709), ([[262, 1650], [764, 1650], [764, 1682], [262, 1682]], 'Whether the vehicle is involved in any caseof', 0.9417196280280828), ([[258, 1679], [771, 1679], [771, 1715], [258, 1715]], 'transport of prohibited goods, if so, give details', 0.7901383549997704), ([[940, 1682], [988, 1682], [988, 1708], [940, 1708]], 'NIA', 0.9898407236322847), ([[208, 1764], [876, 1764], [876, 1794], [208, 1794]], 'IWe solemnly declare that the above statement of mine is true', 0.6116465997457103), ([[210, 1894], [372, 1894], [372, 1922], [210, 1922]], 'Date 08-11-24', 0.8703414224043673), ([[710, 1894], [1300, 1894], [1300, 1926], [710, 1926]], 'Signature or thumb impression of owner of the vehicle', 0.8761383216591074), ([[745.5430712064641, 1306.3775281716353], [800.5201181333064, 1300.372423705573], [802.4569287935359, 1329.6224718283647], [747.4798818666936, 1334.627576294427]], 'paid', 0.9999971389770508), ([[612.8858279709377, 1303.2145699273442], [653.7500878941253, 1308.8012437384582], [650.1141720290623, 1333.7854300726558], [609.2499121058747, 1328.1987562615418]], 'tax', 0.9992811521160995)]\n"
     ]
    }
   ],
   "source": [
    "import easyocr\n",
    "\n",
    "reader = easyocr.Reader(['en'])\n",
    "\n",
    "result = reader.readtext('page_0.jpg')\n",
    "\n",
    "print(result)"
   ]
  }
 ],
 "metadata": {
  "kernelspec": {
   "display_name": ".venv",
   "language": "python",
   "name": "python3"
  },
  "language_info": {
   "codemirror_mode": {
    "name": "ipython",
    "version": 3
   },
   "file_extension": ".py",
   "mimetype": "text/x-python",
   "name": "python",
   "nbconvert_exporter": "python",
   "pygments_lexer": "ipython3",
   "version": "3.11.9"
  }
 },
 "nbformat": 4,
 "nbformat_minor": 2
}
