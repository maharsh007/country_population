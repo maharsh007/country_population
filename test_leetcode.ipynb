{
   "cells": [
      {
         "cell_type": "code",
         "execution_count": 2,
         "id": "test-reverse-words",
         "metadata": {},
         "outputs": [
            {
               "ename": "ModuleNotFoundError",
               "evalue": "No module named 'leetcode'",
               "output_type": "error",
               "traceback": [
                  "\u001b[0;31m---------------------------------------------------------------------------\u001b[0m",
                  "\u001b[0;31mModuleNotFoundError\u001b[0m                       Traceback (most recent call last)",
                  "Cell \u001b[0;32mIn[2], line 2\u001b[0m\n\u001b[1;32m      1\u001b[0m \u001b[38;5;28;01mimport\u001b[39;00m \u001b[38;5;21;01munittest\u001b[39;00m\n\u001b[0;32m----> 2\u001b[0m \u001b[38;5;28;01mfrom\u001b[39;00m \u001b[38;5;21;01mleetcode\u001b[39;00m \u001b[38;5;28;01mimport\u001b[39;00m reverse_words\n\u001b[1;32m      4\u001b[0m \u001b[38;5;28;01mclass\u001b[39;00m \u001b[38;5;21;01mTestReverseWords\u001b[39;00m(unittest\u001b[38;5;241m.\u001b[39mTestCase):\n\u001b[1;32m      5\u001b[0m     \u001b[38;5;28;01mdef\u001b[39;00m \u001b[38;5;21mtest_single_word\u001b[39m(\u001b[38;5;28mself\u001b[39m):\n",
                  "\u001b[0;31mModuleNotFoundError\u001b[0m: No module named 'leetcode'"
               ]
            }
         ],
         "source": [
            "import unittest\n",
            "from leetcode import reverse_words\n",
            "\n",
            "class TestReverseWords(unittest.TestCase):\n",
            "    def test_single_word(self):\n",
            "        self.assertEqual(reverse_words('hello'), 'hello')\n",
            "\n",
            "    def test_two_words(self):\n",
            "        self.assertEqual(reverse_words('hello world'), 'world hello')\n",
            "\n",
            "    def test_multiple_words(self):\n",
            "        self.assertEqual(reverse_words('the quick brown fox'), 'fox brown quick the')\n",
            "\n",
            "    def test_empty_string(self):\n",
            "        self.assertEqual(reverse_words(''), '')\n",
            "\n",
            "    def test_leading_trailing_spaces(self):\n",
            "        self.assertEqual(reverse_words('  hello world  '), 'world hello')\n",
            "\n",
            "if __name__ == '__main__':\n",
            "    unittest.main(argv=[''], exit=False)\n"
         ]
      }
   ],
   "metadata": {
      "kernelspec": {
         "display_name": ".venv",
         "language": "python",
         "name": "python3"
      },
      "language_info": {
         "codemirror_mode": {
            "name": "ipython",
            "version": 3
         },
         "file_extension": ".py",
         "mimetype": "text/x-python",
         "name": "python",
         "nbconvert_exporter": "python",
         "pygments_lexer": "ipython3",
         "version": "3.11.9"
      }
   },
   "nbformat": 4,
   "nbformat_minor": 5
}
